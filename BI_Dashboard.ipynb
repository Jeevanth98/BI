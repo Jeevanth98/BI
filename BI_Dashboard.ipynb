{
 "cells": [
  {
   "cell_type": "markdown",
   "id": "33cb8b8f",
   "metadata": {},
   "source": [
    "## Step 1: Install Required Packages"
   ]
  },
  {
   "cell_type": "code",
   "execution_count": null,
   "id": "1ee66a5e",
   "metadata": {},
   "outputs": [],
   "source": [
    "\"\"\"\n",
    "Run this notebook to execute the complete BI Dashboard pipeline\n",
    "using the modular Python files\n",
    "\"\"\""
   ]
  },
  {
   "cell_type": "code",
   "execution_count": null,
   "id": "bc67403a",
   "metadata": {},
   "outputs": [],
   "source": [
    "# Install required packages\n",
    "!pip install -q pandas numpy scikit-learn xgboost prophet matplotlib seaborn"
   ]
  },
  {
   "cell_type": "markdown",
   "id": "cf541682",
   "metadata": {},
   "source": [
    "## Step 2: Import Modules"
   ]
  },
  {
   "cell_type": "code",
   "execution_count": null,
   "id": "8a437610",
   "metadata": {},
   "outputs": [],
   "source": [
    "# Import our custom modules\n",
    "from preprocessing import DataPreprocessor\n",
    "from segmentation_model import CustomerSegmentation\n",
    "from churn_model import ChurnPredictor\n",
    "from sales_forecast_model import SalesForecaster\n",
    "from return_model import ReturnPredictor\n",
    "\n",
    "import pandas as pd\n",
    "import numpy as np\n",
    "import matplotlib.pyplot as plt\n",
    "import seaborn as sns\n",
    "\n",
    "print(\"✓ All modules imported successfully!\")"
   ]
  },
  {
   "cell_type": "markdown",
   "id": "d2e18424",
   "metadata": {},
   "source": [
    "## Step 3: Data Preprocessing"
   ]
  },
  {
   "cell_type": "code",
   "execution_count": null,
   "id": "84117141",
   "metadata": {},
   "outputs": [],
   "source": [
    "# Initialize preprocessor\n",
    "preprocessor = DataPreprocessor(data_path='')\n",
    "\n",
    "# Run complete preprocessing pipeline\n",
    "data = preprocessor.process_all()\n",
    "\n",
    "print(\"\\n✓ Preprocessing Complete!\")\n",
    "print(f\"Transaction data: {data['transaction_data'].shape}\")\n",
    "print(f\"Customer master: {data['customer_master'].shape}\")\n",
    "print(f\"Sales data: {data['sales_data'].shape}\")\n",
    "print(f\"Return data: {data['return_data'].shape}\")"
   ]
  },
  {
   "cell_type": "code",
   "execution_count": null,
   "id": "668452ec",
   "metadata": {},
   "outputs": [],
   "source": [
    "# Preview customer master data\n",
    "data['customer_master'].head()"
   ]
  },
  {
   "cell_type": "markdown",
   "id": "cd22caa3",
   "metadata": {},
   "source": [
    "## Step 4: Model 1 - Customer Segmentation (K-Means)"
   ]
  },
  {
   "cell_type": "code",
   "execution_count": null,
   "id": "bc16f07b",
   "metadata": {},
   "outputs": [],
   "source": [
    "# Train Customer Segmentation Model\n",
    "seg_model = CustomerSegmentation(n_clusters=4)\n",
    "customer_data_with_segments = seg_model.train(data['customer_master'])\n",
    "\n",
    "# Save the model\n",
    "seg_model.save_model()"
   ]
  },
  {
   "cell_type": "code",
   "execution_count": null,
   "id": "024dc6c3",
   "metadata": {},
   "outputs": [],
   "source": [
    "# Visualize segment distribution\n",
    "plt.figure(figsize=(10, 6))\n",
    "segment_counts = customer_data_with_segments['segment'].value_counts().sort_index()\n",
    "plt.bar(segment_counts.index, segment_counts.values, color='skyblue', edgecolor='black')\n",
    "plt.xlabel('Segment', fontsize=12)\n",
    "plt.ylabel('Number of Customers', fontsize=12)\n",
    "plt.title('Customer Segmentation Distribution', fontsize=14, fontweight='bold')\n",
    "plt.xticks(segment_counts.index)\n",
    "plt.grid(axis='y', alpha=0.3)\n",
    "plt.show()"
   ]
  },
  {
   "cell_type": "markdown",
   "id": "f0510468",
   "metadata": {},
   "source": [
    "## Step 5: Model 2 - Churn Prediction (XGBoost)"
   ]
  },
  {
   "cell_type": "code",
   "execution_count": null,
   "id": "02314ac8",
   "metadata": {},
   "outputs": [],
   "source": [
    "# Train Churn Prediction Model\n",
    "churn_model = ChurnPredictor()\n",
    "churn_model.train(data['customer_master'])\n",
    "\n",
    "# Save the model\n",
    "churn_model.save_model()"
   ]
  },
  {
   "cell_type": "markdown",
   "id": "1a307d65",
   "metadata": {},
   "source": [
    "## Step 6: Model 3 - Sales Forecasting (Prophet)"
   ]
  },
  {
   "cell_type": "code",
   "execution_count": null,
   "id": "8de59763",
   "metadata": {},
   "outputs": [],
   "source": [
    "# Train Sales Forecasting Model\n",
    "sales_model = SalesForecaster()\n",
    "sales_model.train(data['sales_data'])\n",
    "\n",
    "# Save the model\n",
    "sales_model.save_model()"
   ]
  },
  {
   "cell_type": "code",
   "execution_count": null,
   "id": "bf1867ee",
   "metadata": {},
   "outputs": [],
   "source": [
    "# Generate 90-day forecast\n",
    "forecast = sales_model.predict(periods=90)\n",
    "\n",
    "# Plot forecast\n",
    "fig = sales_model.model.plot(forecast)\n",
    "plt.title('Sales Forecast for Next 90 Days')\n",
    "plt.xlabel('Date')\n",
    "plt.ylabel('Sales Value')\n",
    "plt.show()"
   ]
  },
  {
   "cell_type": "markdown",
   "id": "4adcdf22",
   "metadata": {},
   "source": [
    "## Step 7: Model 4 - Product Return Prediction (Random Forest)"
   ]
  },
  {
   "cell_type": "code",
   "execution_count": null,
   "id": "9a5959a6",
   "metadata": {},
   "outputs": [],
   "source": [
    "# Train Product Return Prediction Model\n",
    "return_model = ReturnPredictor()\n",
    "return_model.train(data['return_data'])\n",
    "\n",
    "# Save the model\n",
    "return_model.save_model()"
   ]
  },
  {
   "cell_type": "markdown",
   "id": "51ca5fbf",
   "metadata": {},
   "source": [
    "## Step 8: Create Prediction CSV Templates"
   ]
  },
  {
   "cell_type": "code",
   "execution_count": null,
   "id": "a52bb503",
   "metadata": {},
   "outputs": [],
   "source": [
    "# Create Customer Predictions CSV\n",
    "customer_template = data['customer_master'][[\n",
    "    'customer_unique_id', 'recency', 'frequency', 'monetary',\n",
    "    'avg_review_score', 'has_left_bad_review', 'avg_days_between_purchases',\n",
    "    'avg_delivery_time', 'avg_delivery_lateness', 'avg_approval_hours',\n",
    "    'number_of_low_reviews', 'std_dev_days_between_purchases',\n",
    "    'frequency_last_90_days', 'monetary_last_90_days', 'freq_ratio_90d_alltime'\n",
    "]].head(100).copy()\n",
    "\n",
    "customer_template['predicted_segment'] = ''\n",
    "customer_template['predicted_churn'] = ''\n",
    "customer_template['churn_probability'] = ''\n",
    "\n",
    "customer_template.to_csv('Predictions_Customer.csv', index=False)\n",
    "print(\"✓ Created Predictions_Customer.csv\")"
   ]
  },
  {
   "cell_type": "code",
   "execution_count": null,
   "id": "25455096",
   "metadata": {},
   "outputs": [],
   "source": [
    "# Create Product Predictions CSV\n",
    "product_template = data['return_data'][[\n",
    "    'price', 'freight_value', 'product_category_name',\n",
    "    'product_name_lenght', 'product_description_lenght', 'product_photos_qty',\n",
    "    'product_weight_g', 'product_length_cm', 'product_height_cm', 'product_width_cm'\n",
    "]].head(100).copy()\n",
    "\n",
    "product_template['predicted_return'] = ''\n",
    "product_template['return_probability'] = ''\n",
    "\n",
    "product_template.to_csv('Predictions_Product.csv', index=False)\n",
    "print(\"✓ Created Predictions_Product.csv\")"
   ]
  },
  {
   "cell_type": "markdown",
   "id": "d24b2fb3",
   "metadata": {},
   "source": [
    "## Step 9: Make Predictions on Test Data"
   ]
  },
  {
   "cell_type": "code",
   "execution_count": null,
   "id": "8299ee12",
   "metadata": {},
   "outputs": [],
   "source": [
    "# Load models and make predictions on customer data\n",
    "seg_model_loaded = CustomerSegmentation()\n",
    "seg_model_loaded.load_model('models/segmentation_model.pkl')\n",
    "\n",
    "# Read predictions CSV\n",
    "customer_pred_df = pd.read_csv('Predictions_Customer.csv')\n",
    "\n",
    "# Make predictions\n",
    "segments = seg_model_loaded.predict(customer_pred_df)\n",
    "customer_pred_df['predicted_segment'] = segments\n",
    "\n",
    "print(\"✓ Customer segmentation predictions complete!\")\n",
    "print(f\"Segment distribution: {pd.Series(segments).value_counts().to_dict()}\")"
   ]
  },
  {
   "cell_type": "code",
   "execution_count": null,
   "id": "38bb1f6b",
   "metadata": {},
   "outputs": [],
   "source": [
    "# Churn predictions\n",
    "churn_model_loaded = ChurnPredictor()\n",
    "churn_model_loaded.load_model('models/churn_model.pkl')\n",
    "\n",
    "churn_pred, churn_proba = churn_model_loaded.predict(customer_pred_df)\n",
    "customer_pred_df['predicted_churn'] = churn_pred\n",
    "customer_pred_df['churn_probability'] = churn_proba\n",
    "\n",
    "print(\"✓ Churn predictions complete!\")\n",
    "print(f\"Churn distribution: {pd.Series(churn_pred).value_counts().to_dict()}\")"
   ]
  },
  {
   "cell_type": "code",
   "execution_count": null,
   "id": "ce05a4a1",
   "metadata": {},
   "outputs": [],
   "source": [
    "# Save customer predictions\n",
    "customer_pred_df.to_csv('Predictions_Customer.csv', index=False)\n",
    "print(\"✓ Customer predictions saved to Predictions_Customer.csv\")\n",
    "\n",
    "# Display sample predictions\n",
    "customer_pred_df[['customer_unique_id', 'predicted_segment', 'predicted_churn', 'churn_probability']].head(10)"
   ]
  },
  {
   "cell_type": "code",
   "execution_count": null,
   "id": "30c4392c",
   "metadata": {},
   "outputs": [],
   "source": [
    "# Product return predictions\n",
    "return_model_loaded = ReturnPredictor()\n",
    "return_model_loaded.load_model('models/return_model.pkl')\n",
    "\n",
    "product_pred_df = pd.read_csv('Predictions_Product.csv')\n",
    "return_pred, return_proba = return_model_loaded.predict(product_pred_df)\n",
    "\n",
    "product_pred_df['predicted_return'] = return_pred\n",
    "product_pred_df['return_probability'] = return_proba\n",
    "\n",
    "# Save predictions\n",
    "product_pred_df.to_csv('Predictions_Product.csv', index=False)\n",
    "print(\"✓ Product predictions saved to Predictions_Product.csv\")\n",
    "\n",
    "# Display sample predictions\n",
    "product_pred_df[['product_category_name', 'price', 'predicted_return', 'return_probability']].head(10)"
   ]
  },
  {
   "cell_type": "code",
   "execution_count": null,
   "id": "38a9c86f",
   "metadata": {},
   "outputs": [],
   "source": [
    "# Sales forecast\n",
    "sales_model_loaded = SalesForecaster()\n",
    "sales_model_loaded.load_model('models/sales_forecast_model.pkl')\n",
    "\n",
    "sales_forecast = sales_model_loaded.forecast_to_csv('Predictions_Sales.csv', periods=90)\n",
    "print(\"✓ Sales forecast saved to Predictions_Sales.csv\")\n",
    "\n",
    "# Display forecast summary\n",
    "sales_forecast.head(10)"
   ]
  },
  {
   "cell_type": "markdown",
   "id": "9e38242c",
   "metadata": {},
   "source": [
    "## Step 10: Summary and Visualizations"
   ]
  },
  {
   "cell_type": "code",
   "execution_count": null,
   "id": "6108d35e",
   "metadata": {},
   "outputs": [],
   "source": [
    "# Summary Statistics\n",
    "print(\"=\"*60)\n",
    "print(\"BI DASHBOARD - PREDICTION SUMMARY\")\n",
    "print(\"=\"*60)\n",
    "print(f\"\\n📊 Customer Analysis:\")\n",
    "print(f\"  Total Customers: {len(customer_pred_df)}\")\n",
    "print(f\"  Segments: {customer_pred_df['predicted_segment'].value_counts().to_dict()}\")\n",
    "print(f\"  Churn Rate: {(customer_pred_df['predicted_churn'].sum() / len(customer_pred_df) * 100):.2f}%\")\n",
    "print(f\"  Avg Churn Probability: {customer_pred_df['churn_probability'].mean():.2%}\")\n",
    "\n",
    "print(f\"\\n📦 Product Analysis:\")\n",
    "print(f\"  Total Products: {len(product_pred_df)}\")\n",
    "print(f\"  Return Rate: {(product_pred_df['predicted_return'].sum() / len(product_pred_df) * 100):.2f}%\")\n",
    "print(f\"  Avg Return Probability: {product_pred_df['return_probability'].mean():.2%}\")\n",
    "\n",
    "print(f\"\\n💰 Sales Forecast:\")\n",
    "print(f\"  Forecast Period: 90 days\")\n",
    "print(f\"  Total Predicted Sales: ${sales_forecast['predicted_sales'].sum():,.2f}\")\n",
    "print(f\"  Avg Daily Sales: ${sales_forecast['predicted_sales'].mean():,.2f}\")\n",
    "\n",
    "print(\"\\n✅ All predictions completed and saved!\")\n",
    "print(\"=\"*60)"
   ]
  },
  {
   "cell_type": "code",
   "execution_count": null,
   "id": "c4b92794",
   "metadata": {},
   "outputs": [],
   "source": [
    "# Visualize churn probability distribution\n",
    "plt.figure(figsize=(12, 5))\n",
    "\n",
    "plt.subplot(1, 2, 1)\n",
    "plt.hist(customer_pred_df['churn_probability'], bins=30, color='coral', edgecolor='black', alpha=0.7)\n",
    "plt.xlabel('Churn Probability')\n",
    "plt.ylabel('Number of Customers')\n",
    "plt.title('Distribution of Churn Probability')\n",
    "plt.grid(axis='y', alpha=0.3)\n",
    "\n",
    "plt.subplot(1, 2, 2)\n",
    "plt.hist(product_pred_df['return_probability'], bins=30, color='lightgreen', edgecolor='black', alpha=0.7)\n",
    "plt.xlabel('Return Probability')\n",
    "plt.ylabel('Number of Products')\n",
    "plt.title('Distribution of Return Probability')\n",
    "plt.grid(axis='y', alpha=0.3)\n",
    "\n",
    "plt.tight_layout()\n",
    "plt.show()"
   ]
  }
 ],
 "metadata": {
  "language_info": {
   "name": "python"
  }
 },
 "nbformat": 4,
 "nbformat_minor": 5
}
